{
 "cells": [
  {
   "cell_type": "code",
   "execution_count": null,
   "metadata": {},
   "outputs": [],
   "source": [
    "import numpy as np\n",
    "import pandas as pd\n",
    "import total_model_A"
   ]
  },
  {
   "cell_type": "code",
   "execution_count": 32,
   "metadata": {},
   "outputs": [],
   "source": [
    "data_1 = pd.read_csv('F:/运筹学/大作业/model/cluster_info_1.csv')"
   ]
  },
  {
   "cell_type": "code",
   "execution_count": null,
   "metadata": {},
   "outputs": [],
   "source": [
    "\n",
    "#将经纬度转换成二维坐标\n",
    "data_1['center_X1'] = data_1['center_X1'].round(2) *100\n",
    "data_1['center_X2'] = data_1['center_X2'].round(2) *100\n",
    "# data_1['center_X1'] = data_1['center_X1'].astype(int)\n",
    "# data_1['center_X2'] = data_1['center_X2'].astype(int)\n",
    "min_x1, max_x1 = data_1['center_X1'].min(), data_1['center_X1'].max()\n",
    "min_x2, max_x2 = data_1['center_X2'].min(), data_1['center_X2'].max()\n",
    "data_1['normalized_X1'] = data_1['center_X1'] - min_x1\n",
    "data_1['normalized_X2'] = data_1['center_X2'] - min_x2\n",
    "\n",
    "results = pd.DataFrame(columns=['fun', 'nit'])\n",
    "\n",
    "K = data_1.shape[0]\n",
    "for i in range(29):\n",
    "    Loc = list(zip(data_1['normalized_X1'], data_1['normalized_X2']))\n",
    "    X_exp = data_1.iloc[:,i+3].to_numpy()\n",
    "    X_act = data_1.iloc[:,32+i].to_numpy()\n",
    "    w = 1\n",
    "    res = total_model_A.question_1(K, Loc, X_exp, X_act, w)\n",
    "    result_data = {\n",
    "        'fun': res.fun,\n",
    "        'nit': res.nit\n",
    "    }\n",
    "    results = pd.concat([results, pd.DataFrame(result_data, index=[0])], ignore_index=True)\n",
    "\n",
    "results.to_csv('F:/运筹学/大作业/model/initial结果.csv', index=False)"
   ]
  },
  {
   "cell_type": "code",
   "execution_count": 48,
   "metadata": {},
   "outputs": [
    {
     "name": "stderr",
     "output_type": "stream",
     "text": [
      "C:\\Users\\17817\\AppData\\Local\\Temp\\ipykernel_26816\\3348415607.py:26: FutureWarning: The behavior of DataFrame concatenation with empty or all-NA entries is deprecated. In a future version, this will no longer exclude empty or all-NA columns when determining the result dtypes. To retain the old behavior, exclude the relevant entries before the concat operation.\n",
      "  results_plus = pd.concat([results_plus, pd.DataFrame(result_data_plus, index=[0])], ignore_index=True)\n"
     ]
    }
   ],
   "source": [
    "data_bike = pd.read_csv('F:/运筹学/大作业/model/data_20_9_2.csv')\n",
    "data_bike['end_lat'] = data_bike['end_lat'].round(2) *100\n",
    "data_bike['end_lng'] = data_bike['end_lng'].round(2) *100\n",
    "min_x1, max_x1 = data_1['center_X1'].min(), data_1['center_X1'].max()\n",
    "min_x2, max_x2 = data_1['center_X2'].min(), data_1['center_X2'].max()\n",
    "data_bike['end_lat'] = data_bike['end_lat'] - min_x1\n",
    "data_bike['end_lng'] = data_bike['end_lng'] - min_x2\n",
    "\n",
    "results_plus = pd.DataFrame(columns=['fun_bike_to_site', 'fun_site_to_site','fun_total'])\n",
    "K = data_1.shape[0]\n",
    "for i in range(29):\n",
    "    filtered = data_bike[(data_bike['day'] == i+1) & (data_bike['label_time'] == 'evening')]\n",
    "    Loc_bike = list(zip(filtered['end_lat'], filtered['end_lng']))\n",
    "    Loc = list(zip(data_1['normalized_X1'], data_1['normalized_X2']))\n",
    "    X_exp = data_1.iloc[:,i+3].to_numpy()\n",
    "    w = 1 \n",
    "    M = data_1.iloc[:,i+32].sum()\n",
    "    X_act, Distance_total = total_model_A.question_2(M, Loc_bike, K, X_exp, Loc)\n",
    "    res = total_model_A.question_1(K, Loc, X_exp, X_act, w)\n",
    " \n",
    "    result_data_plus = {\n",
    "        'fun_bike_to_site': Distance_total,\n",
    "        'fun_site_to_site': res.fun,\n",
    "        'fun_total': Distance_total+res.fun\n",
    "    }\n",
    "    results_plus = pd.concat([results_plus, pd.DataFrame(result_data_plus, index=[0])], ignore_index=True)\n",
    "\n",
    "results_plus.to_csv('F:/运筹学/大作业/model/plus结果.csv', index=False)"
   ]
  },
  {
   "cell_type": "code",
   "execution_count": 51,
   "metadata": {},
   "outputs": [
    {
     "name": "stderr",
     "output_type": "stream",
     "text": [
      "C:\\Users\\17817\\AppData\\Local\\Temp\\ipykernel_26816\\3350059583.py:22: FutureWarning: The behavior of DataFrame concatenation with empty or all-NA entries is deprecated. In a future version, this will no longer exclude empty or all-NA columns when determining the result dtypes. To retain the old behavior, exclude the relevant entries before the concat operation.\n",
      "  results_plusplus = pd.concat([results_plusplus, pd.DataFrame(result_data_plusplus, index=[0])], ignore_index=True)\n"
     ]
    }
   ],
   "source": [
    "data_bike = pd.read_csv('F:/运筹学/大作业/model/data_20_9_2.csv')\n",
    "data_bike['end_lat'] = data_bike['end_lat'].round(2) *100\n",
    "data_bike['end_lng'] = data_bike['end_lng'].round(2) *100\n",
    "min_x1, max_x1 = data_1['center_X1'].min(), data_1['center_X1'].max()\n",
    "min_x2, max_x2 = data_1['center_X2'].min(), data_1['center_X2'].max()\n",
    "data_bike['end_lat'] = data_bike['end_lat'] - min_x1\n",
    "data_bike['end_lng'] = data_bike['end_lng'] - min_x2\n",
    "\n",
    "results_plusplus = pd.DataFrame(columns=['fun_total'])\n",
    "K = data_1.shape[0]\n",
    "for i in range(29):\n",
    "    filtered = data_bike[(data_bike['day'] == i+1) & (data_bike['label_time'] == 'evening')]\n",
    "    Loc_bike = list(zip(filtered['end_lat'], filtered['end_lng']))\n",
    "    Loc = list(zip(data_1['normalized_X1'], data_1['normalized_X2']))\n",
    "    X_exp = data_1.iloc[:,i+3].to_numpy()\n",
    "    w = 1 \n",
    "    M = data_1.iloc[:,i+32].sum()\n",
    "    status, variable_values, objective_value = total_model_A.question_3(M, K, Loc, Loc_bike, X_exp, w)\n",
    "    result_data_plusplus = {\n",
    "        'fun_total': objective_value\n",
    "    }\n",
    "    results_plusplus = pd.concat([results_plusplus, pd.DataFrame(result_data_plusplus, index=[0])], ignore_index=True)\n",
    "\n",
    "results_plusplus.to_csv('F:/运筹学/大作业/model/plusplus结果.csv', index=False)"
   ]
  }
 ],
 "metadata": {
  "kernelspec": {
   "display_name": "Python 3",
   "language": "python",
   "name": "python3"
  },
  "language_info": {
   "codemirror_mode": {
    "name": "ipython",
    "version": 3
   },
   "file_extension": ".py",
   "mimetype": "text/x-python",
   "name": "python",
   "nbconvert_exporter": "python",
   "pygments_lexer": "ipython3",
   "version": "3.11.5"
  }
 },
 "nbformat": 4,
 "nbformat_minor": 2
}
