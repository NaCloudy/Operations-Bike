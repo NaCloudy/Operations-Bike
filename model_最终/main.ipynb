{
 "cells": [
  {
   "cell_type": "code",
   "execution_count": 1,
   "metadata": {},
   "outputs": [],
   "source": [
    "import numpy as np\n",
    "import pandas as pd\n",
    "import total_model1done"
   ]
  },
  {
   "cell_type": "code",
   "execution_count": 2,
   "metadata": {},
   "outputs": [],
   "source": [
    "data_1 = pd.read_csv('F:/运筹学/大作业/model/cluster_info_1.csv')\n",
    "#将经纬度转换成二维坐标\n",
    "data_1['center_X1'] = data_1['center_X1'].round(2) *100\n",
    "data_1['center_X2'] = data_1['center_X2'].round(2) *100\n",
    "data_1['center_X1'] = data_1['center_X1'].astype(int)\n",
    "data_1['center_X2'] = data_1['center_X2'].astype(int)\n",
    "min_x1, max_x1 = data_1['center_X1'].min(), data_1['center_X1'].max()\n",
    "min_x2, max_x2 = data_1['center_X2'].min(), data_1['center_X2'].max()\n",
    "data_1['normalized_X1'] = data_1['center_X1'] - min_x1\n",
    "data_1['normalized_X2'] = data_1['center_X2'] - min_x2\n",
    "\n",
    "K = data_1.shape[0]\n",
    "Loc = list(zip(data_1['normalized_X1'], data_1['normalized_X2']))\n",
    "X_exp = data_1['早上车子数'].to_numpy()\n",
    "X_act = data_1['晚上车子数'].to_numpy()\n",
    "w = 1\n",
    "res = total_model1done.question_1(K, Loc, X_exp, X_act, w)"
   ]
  }
 ],
 "metadata": {
  "kernelspec": {
   "display_name": "Python 3",
   "language": "python",
   "name": "python3"
  },
  "language_info": {
   "codemirror_mode": {
    "name": "ipython",
    "version": 3
   },
   "file_extension": ".py",
   "mimetype": "text/x-python",
   "name": "python",
   "nbconvert_exporter": "python",
   "pygments_lexer": "ipython3",
   "version": "3.11.5"
  }
 },
 "nbformat": 4,
 "nbformat_minor": 2
}
